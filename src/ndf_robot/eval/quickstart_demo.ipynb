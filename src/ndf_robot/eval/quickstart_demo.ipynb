{
 "cells": [
  {
   "attachments": {},
   "cell_type": "markdown",
   "metadata": {},
   "source": [
    "# Quickstart Demo\n",
    "\n",
    "This showcases the basic operation of Local Neural Descriptor Fields (LNDF)\n",
    "for a handle grasping task.  \n",
    "\n",
    "This demonstration loads a set of grasp demos involving some randomly selected\n",
    "mugs.  We can then use LNDFs to grasp the handles of other mugs in unique poses\n",
    "or to grasp handles placed on arbitrary objects.  "
   ]
  },
  {
   "cell_type": "code",
   "execution_count": null,
   "metadata": {},
   "outputs": [],
   "source": [
    "from plotly.offline import iplot"
   ]
  },
  {
   "attachments": {},
   "cell_type": "markdown",
   "metadata": {},
   "source": [
    "## Set up scene\n",
    "\n",
    "We add a table and mug to the scene.  Our goal is to grasp the mug by its\n",
    "handle."
   ]
  },
  {
   "cell_type": "code",
   "execution_count": null,
   "metadata": {},
   "outputs": [],
   "source": []
  }
 ],
 "metadata": {
  "kernelspec": {
   "display_name": "NDF_ENV",
   "language": "python",
   "name": "python3"
  },
  "language_info": {
   "name": "python",
   "version": "3.6.7 |Anaconda, Inc.| (default, Oct 23 2018, 19:16:44) \n[GCC 7.3.0]"
  },
  "orig_nbformat": 4,
  "vscode": {
   "interpreter": {
    "hash": "5e6c76b44e5f08b9e3bc7badfdaf91e263a0252eabce23a3e4876d90f798574c"
   }
  }
 },
 "nbformat": 4,
 "nbformat_minor": 2
}
